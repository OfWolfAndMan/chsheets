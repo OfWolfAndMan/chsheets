{
 "cells": [
  {
   "cell_type": "code",
   "execution_count": 3,
   "metadata": {},
   "outputs": [
    {
     "name": "stdout",
     "output_type": "stream",
     "text": [
      "10.10.10.101\n"
     ]
    }
   ],
   "source": [
    "\"\"\"\n",
    "Search for an IP address\n",
    "\"\"\"\n",
    "import re\n",
    "\n",
    "variable = \"VLAN 205     IP Address 10.10.10.101\"\n",
    "output = re.search(r\"\\d+\\.\\d+\\.\\d+\\.\\d+\",variable)\n",
    "output_one = output.group(0)\n",
    "print(output_one)"
   ]
  },
  {
   "cell_type": "code",
   "execution_count": 4,
   "metadata": {},
   "outputs": [
    {
     "name": "stdout",
     "output_type": "stream",
     "text": [
      "77.77.77.7     7     b7:a7:7a:ff:c7:77  VLAN#777    L 77.77.77.77\n"
     ]
    }
   ],
   "source": [
    "\"\"\"\n",
    "Replace expressions based on regex\n",
    "\"\"\"\n",
    "import re\n",
    "arp  = \"22.22.22.1     0     b4:a9:5a:ff:c8:45  VLAN#222    L 10.10.10.10\"\n",
    "b = re.sub(r\"\\d\", \"7\", arp)\n",
    "print(b)\n",
    "#Replace every number in the string with 7s"
   ]
  },
  {
   "cell_type": "code",
   "execution_count": null,
   "metadata": {},
   "outputs": [],
   "source": []
  }
 ],
 "metadata": {
  "kernelspec": {
   "display_name": "Python 3",
   "language": "python",
   "name": "python3"
  },
  "language_info": {
   "codemirror_mode": {
    "name": "ipython",
    "version": 3
   },
   "file_extension": ".py",
   "mimetype": "text/x-python",
   "name": "python",
   "nbconvert_exporter": "python",
   "pygments_lexer": "ipython3",
   "version": "3.7.1"
  }
 },
 "nbformat": 4,
 "nbformat_minor": 4
}
