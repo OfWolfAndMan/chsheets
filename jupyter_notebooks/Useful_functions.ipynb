{
 "cells": [
  {
   "cell_type": "code",
   "execution_count": 31,
   "metadata": {},
   "outputs": [
    {
     "name": "stdout",
     "output_type": "stream",
     "text": [
      "6876ab5e-277c-4dd7-993b-b289d34679e2\n",
      "7f236c47-f6f8-48ad-982f-79e387b4b1c8\n",
      "6e194af7-bc60-4a69-aabf-91bf03b7fded\n",
      "da2f24cd-597c-4267-a67b-141b13b400f3\n",
      "a8b02003-8715-44ea-a45e-13f8e079a95b\n",
      "bbe2b2d3-729b-4fbd-ab85-0d1b0014ea0d\n",
      "85af44e2-5fde-418e-9034-87f734bbef62\n",
      "8e0c4dd0-1969-4f4a-b1a6-02fe242fadcf\n",
      "3166d400-26aa-4300-8ba4-d4350e104a5a\n",
      "aa635f03-a87c-4424-b66f-c24b565cad5a\n"
     ]
    }
   ],
   "source": [
    "\"\"\"\n",
    "Generate a random UUID\n",
    "\"\"\"\n",
    "import uuid\n",
    "\n",
    "def create_uuid():\n",
    "    uid = uuid.uuid4()\n",
    "    return uid\n",
    "x = 10\n",
    "\n",
    "while x >= 1:\n",
    "    print(create_uuid())\n",
    "    x -= 1"
   ]
  },
  {
   "cell_type": "code",
   "execution_count": 49,
   "metadata": {},
   "outputs": [
    {
     "name": "stdout",
     "output_type": "stream",
     "text": [
      "True True\n"
     ]
    }
   ],
   "source": [
    "\"\"\"\n",
    "Match text at the start or end of string\n",
    "\"\"\"\n",
    "filename = \"awesomesauce.txt\"\n",
    "x = filename.startswith(\"awe\")\n",
    "y = filename.endswith(\"txt\")\n",
    "print(x, y)"
   ]
  },
  {
   "cell_type": "code",
   "execution_count": 33,
   "metadata": {},
   "outputs": [
    {
     "data": {
      "text/plain": [
       "'/Users/anthonywathen/Documents/GitScripts/chsheets/jupyter_notebooks'"
      ]
     },
     "execution_count": 33,
     "metadata": {},
     "output_type": "execute_result"
    }
   ],
   "source": [
    "\"\"\"\n",
    "Print current directory\n",
    "\"\"\"\n",
    "import os\n",
    "\n",
    "os.getcwd()"
   ]
  },
  {
   "cell_type": "code",
   "execution_count": 34,
   "metadata": {},
   "outputs": [
    {
     "data": {
      "text/plain": [
       "['Useful_functions.ipynb', '.ipynb_checkpoints']"
      ]
     },
     "execution_count": 34,
     "metadata": {},
     "output_type": "execute_result"
    }
   ],
   "source": [
    "\"\"\"\n",
    "List current directory files\n",
    "\"\"\"\n",
    "os.listdir('.')"
   ]
  },
  {
   "cell_type": "code",
   "execution_count": 46,
   "metadata": {},
   "outputs": [
    {
     "data": {
      "text/plain": [
       "'/Users/anthonywathen/Documents/GitScripts'"
      ]
     },
     "execution_count": 46,
     "metadata": {},
     "output_type": "execute_result"
    }
   ],
   "source": [
    "# Change directory #\n",
    "\n",
    "os.chdir('../')\n",
    "os.getcwd()"
   ]
  },
  {
   "cell_type": "code",
   "execution_count": 38,
   "metadata": {},
   "outputs": [
    {
     "name": "stdout",
     "output_type": "stream",
     "text": [
      "[{'name': 'jane', 'occupation': 'maid', 'age': 28}, {'name': 'leon', 'occupation': 'doctor', 'age': 32}, {'name': 'john', 'occupation': 'engineer', 'age': 41}, {'name': 'linda', 'occupation': 'CFP', 'age': 52}]\n"
     ]
    }
   ],
   "source": [
    "\"\"\"\n",
    "Sort a list of dictionaries based on a specific key's value (In this case, age)\n",
    "\"\"\"\n",
    "list_of_dicts = [{\"name\": \"leon\", \"occupation\": \"doctor\", \"age\": 32}, {\"name\": \"john\", \"occupation\": \"engineer\", \"age\": 41}, \n",
    "                 {\"name\": \"jane\", \"occupation\": \"maid\", \"age\": 28}, {\"name\": \"linda\", \"occupation\": \"CFP\", \"age\": 52}]\n",
    "\n",
    "sorted_data = sorted(list_of_dicts, key=lambda k: k['age'])\n",
    "print(sorted_data)"
   ]
  },
  {
   "cell_type": "code",
   "execution_count": 41,
   "metadata": {},
   "outputs": [
    {
     "name": "stdout",
     "output_type": "stream",
     "text": [
      "[{'fname': 'Ashley', 'lname': 'Madison', 'uid': 1002}, {'fname': 'Bob', 'lname': 'Johnson', 'uid': 1001}, {'fname': 'Janette', 'lname': 'Valentine', 'uid': 1003}]\n"
     ]
    }
   ],
   "source": [
    "\"\"\"\n",
    "Sort a list of dictionaries based on a common key\n",
    "\"\"\"\n",
    "rows = [\n",
    "\t{'fname': 'Bob', 'lname': 'Johnson', 'uid': 1001},\n",
    "\t{'fname': 'Janette', 'lname': 'Valentine', 'uid': 1003},\n",
    "\t{'fname': 'Ashley', 'lname': 'Madison', 'uid': 1002}\n",
    "] \n",
    "\n",
    "from operator import itemgetter\n",
    "\n",
    "rows_by_fname = sorted(rows, key=itemgetter('fname'))\n",
    "print(rows_by_fname)"
   ]
  },
  {
   "cell_type": "code",
   "execution_count": 43,
   "metadata": {},
   "outputs": [
    {
     "name": "stdout",
     "output_type": "stream",
     "text": [
      "01/12/2015\n",
      "    {'address': '432 E CARP', 'date': '01/12/2015'}\n",
      "02/24/2015\n",
      "    {'address': '2490 JACKSON CIR', 'date': '02/24/2015'}\n",
      "05/07/2013\n",
      "    {'address': '5412 N CRAP', 'date': '05/07/2013'}\n",
      "11/23/2014\n",
      "    {'address': '291 JOHNSON AVE', 'date': '11/23/2014'}\n"
     ]
    }
   ],
   "source": [
    "\"\"\"\n",
    "Grouping records together based on a field\n",
    "\"\"\"\n",
    "rows = [\n",
    "\t{'address': '5412 N CRAP', 'date': '05/07/2013'},\n",
    "\t{'address': '432 E CARP', 'date': '01/12/2015'},\n",
    "\t{'address': '291 JOHNSON AVE', 'date': '11/23/2014'},\n",
    "\t{'address': '2490 JACKSON CIR', 'date': '02/24/2015'}\n",
    "]\n",
    "\n",
    "from operator import itemgetter\n",
    "from itertools import groupby\n",
    "\n",
    "rows.sort(key=itemgetter('date'))\n",
    "\n",
    "for date, items in groupby(rows, key=itemgetter('date')):\n",
    "\tprint(date)\n",
    "\tfor i in items:\n",
    "\t\tprint('   ', i)"
   ]
  },
  {
   "cell_type": "code",
   "execution_count": 51,
   "metadata": {},
   "outputs": [
    {
     "name": "stdout",
     "output_type": "stream",
     "text": [
      "[['a', 1], ['a', 4]]\n"
     ]
    }
   ],
   "source": [
    "\"\"\"\n",
    "Get all entries that have 'a' for their first entry\n",
    "\"\"\"\n",
    "l = [['a', 1],['b', 2],['c', 3],['a', 4]]\n",
    "\n",
    "m = [row for row in l if 'a' == row[0]]\n",
    "print(m)"
   ]
  },
  {
   "cell_type": "code",
   "execution_count": null,
   "metadata": {},
   "outputs": [],
   "source": []
  },
  {
   "cell_type": "code",
   "execution_count": 59,
   "metadata": {},
   "outputs": [
    {
     "name": "stdout",
     "output_type": "stream",
     "text": [
      " \t\t Welcome to the network engineer's \n",
      "\t\t  toolset. Please select your preferred \n",
      "\t\t  tool from the list below.\n",
      "151: Ping sweeper 152: Port Scanner 153: Config backup\n",
      " \t\t  Welcome to the ping sweeper! This\n",
      "\t\t  script will allow you to ping a \n",
      "\t\t  range of IP addresses (/24 mask\n",
      "\t\t  is only supported). Check back \n",
      "\t\t  later for additional functionality\n",
      "\t\t  including port scanning capability\n"
     ]
    },
    {
     "name": "stdin",
     "output_type": "stream",
     "text": [
      "Please input the IP subnet:\n",
      " 10.0.0.0\n"
     ]
    },
    {
     "ename": "TypeError",
     "evalue": "'int' object is not callable",
     "output_type": "error",
     "traceback": [
      "\u001b[0;31m---------------------------------------------------------------------------\u001b[0m",
      "\u001b[0;31mTypeError\u001b[0m                                 Traceback (most recent call last)",
      "\u001b[0;32m<ipython-input-59-90891ae49530>\u001b[0m in \u001b[0;36m<module>\u001b[0;34m\u001b[0m\n\u001b[1;32m     43\u001b[0m \u001b[0;34m\u001b[0m\u001b[0m\n\u001b[1;32m     44\u001b[0m     pool = [ multiprocessing.Process(target=pinger, args=(jobs,results))\n\u001b[0;32m---> 45\u001b[0;31m              for i in range(pool_size) ]\n\u001b[0m\u001b[1;32m     46\u001b[0m \u001b[0;34m\u001b[0m\u001b[0m\n\u001b[1;32m     47\u001b[0m     \u001b[0;32mfor\u001b[0m \u001b[0mp\u001b[0m \u001b[0;32min\u001b[0m \u001b[0mpool\u001b[0m\u001b[0;34m:\u001b[0m\u001b[0;34m\u001b[0m\u001b[0;34m\u001b[0m\u001b[0m\n",
      "\u001b[0;31mTypeError\u001b[0m: 'int' object is not callable"
     ]
    }
   ],
   "source": [
    "#!/usr/bin/python3\n",
    "\"\"\"\n",
    "\"\"\"\n",
    "\n",
    "import multiprocessing\n",
    "import subprocess\n",
    "import os\n",
    "\n",
    "print(\"\"\" \\t\\t Welcome to the network engineer's \n",
    "\t\t  toolset. Please select your preferred \n",
    "\t\t  tool from the list below.\"\"\")\n",
    "\t\t  \n",
    "print(\"15%s 15%s 15%s\" % (\"1: Ping sweeper\", \"2: Port Scanner\", \"3: Config backup\"))\n",
    "print(\"\"\" \\t\\t  Welcome to the ping sweeper! This\n",
    "\t\t  script will allow you to ping a \n",
    "\t\t  range of IP addresses (/24 mask\n",
    "\t\t  is only supported). Check back \n",
    "\t\t  later for additional functionality\n",
    "\t\t  including port scanning capability\"\"\")\n",
    "\t\t  \n",
    "def pinger( job_q, results_q ):\n",
    "    DEVNULL = open(os.devnull,'w')\n",
    "    while True:\n",
    "        ip = job_q.get()\n",
    "        if ip is None: break\n",
    "\n",
    "        try:\n",
    "            subprocess.check_call(['ping','-c1',ip],\n",
    "                                  stdout=DEVNULL)\n",
    "            results_q.put(ip)\n",
    "        except:\n",
    "            pass\n",
    "\n",
    "if __name__ == '__main__':\n",
    "    pool_size = 255\n",
    "    \n",
    "    jobs = multiprocessing.Queue()\n",
    "    results = multiprocessing.Queue()\n",
    "    \n",
    "    ip_subnet = input(\"Please input the IP subnet:\\n\")\n",
    "    ip_split = ip_subnet.split(\".\")\n",
    "    ip_join = \".\".join(ip_split[:3])    \n",
    "\t\n",
    "    pool = [ multiprocessing.Process(target=pinger, args=(jobs,results))\n",
    "             for i in range(pool_size) ]\n",
    "\t\n",
    "    for p in pool:\n",
    "        p.start()\n",
    "\n",
    "    for i in range(1,255):\n",
    "        jobs.put('{0}.{1}'.format(ip_join, i))\n",
    "\n",
    "    for p in pool:\n",
    "        jobs.put(None)\n",
    "\n",
    "    for p in pool:\n",
    "        p.join()\n",
    "\n",
    "    while not results.empty():\n",
    "        ip = results.get()\n",
    "        print(ip)\n",
    "        \n",
    "\n",
    "\n"
   ]
  },
  {
   "cell_type": "code",
   "execution_count": null,
   "metadata": {},
   "outputs": [],
   "source": [
    "\"\"\"\n",
    "Basic Boolean example\n",
    "\"\"\"\n",
    "bool_one = 2**3 = 108 % 100 or 'Cleese' == 'King Arthur'"
   ]
  }
 ],
 "metadata": {
  "kernelspec": {
   "display_name": "Python 3",
   "language": "python",
   "name": "python3"
  },
  "language_info": {
   "codemirror_mode": {
    "name": "ipython",
    "version": 3
   },
   "file_extension": ".py",
   "mimetype": "text/x-python",
   "name": "python",
   "nbconvert_exporter": "python",
   "pygments_lexer": "ipython3",
   "version": "3.7.1"
  }
 },
 "nbformat": 4,
 "nbformat_minor": 4
}
