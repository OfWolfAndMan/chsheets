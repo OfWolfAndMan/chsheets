{
 "cells": [
  {
   "cell_type": "code",
   "execution_count": 8,
   "metadata": {},
   "outputs": [
    {
     "name": "stdout",
     "output_type": "stream",
     "text": [
      "{'felidea': {'cat'}, 'labrador': {'dog'}}\n",
      "defaultdict(<class 'set'>, {'felidea': {'cat'}, 'labrador': {'dog'}})\n"
     ]
    }
   ],
   "source": [
    "#Old way\n",
    "def add_animal_in_family(species ,animal,family): \n",
    "    if family not in species:\n",
    "        species[family] = set()\n",
    "    species[family].add(animal)\n",
    "    \n",
    "species = {}\n",
    "add_animal_in_family(species, 'cat', 'felidea')\n",
    "print(species)\n",
    "\n",
    "#New Way (\"Set\" builds a new set each time we need it)\n",
    "import collections\n",
    "def add_animal_in_family_new(species, animal, family):\n",
    "    species[family].add(animal)\n",
    "\n",
    "#\"Set\" builds a new set each time we need it\n",
    "species = collections.defaultdict(set)\n",
    "add_animal_in_family_new(species, 'cat', 'felidea')\n",
    "print(species)"
   ]
  },
  {
   "cell_type": "code",
   "execution_count": 16,
   "metadata": {},
   "outputs": [
    {
     "name": "stdout",
     "output_type": "stream",
     "text": [
      "False\n",
      "True\n",
      "False\n",
      "True\n"
     ]
    }
   ],
   "source": [
    "#Old way of iterating through a list\n",
    "def has_invalid_fields(fields):\n",
    "    for field in fields:\n",
    "        if field not in ['foo', 'bar']:\n",
    "            return True\n",
    "    return False\n",
    "print(has_invalid_fields(['foo', 'bar']))\n",
    "print(has_invalid_fields(['too', 'bra']))\n",
    "\n",
    "#Better Way\n",
    "def has_invalid_fields_new(fields):\n",
    "    return bool(set(fields) - set(['foo', 'bar']))\n",
    "\n",
    "print(has_invalid_fields_new(['foo', 'bar']))\n",
    "print(has_invalid_fields_new(['too', 'bra']))"
   ]
  },
  {
   "cell_type": "code",
   "execution_count": null,
   "metadata": {},
   "outputs": [],
   "source": []
  }
 ],
 "metadata": {
  "kernelspec": {
   "display_name": "Python 3",
   "language": "python",
   "name": "python3"
  },
  "language_info": {
   "codemirror_mode": {
    "name": "ipython",
    "version": 3
   },
   "file_extension": ".py",
   "mimetype": "text/x-python",
   "name": "python",
   "nbconvert_exporter": "python",
   "pygments_lexer": "ipython3",
   "version": "3.7.1"
  }
 },
 "nbformat": 4,
 "nbformat_minor": 4
}
