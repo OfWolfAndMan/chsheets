{
 "cells": [
  {
   "cell_type": "code",
   "execution_count": 31,
   "metadata": {},
   "outputs": [
    {
     "name": "stdout",
     "output_type": "stream",
     "text": [
      "6876ab5e-277c-4dd7-993b-b289d34679e2\n",
      "7f236c47-f6f8-48ad-982f-79e387b4b1c8\n",
      "6e194af7-bc60-4a69-aabf-91bf03b7fded\n",
      "da2f24cd-597c-4267-a67b-141b13b400f3\n",
      "a8b02003-8715-44ea-a45e-13f8e079a95b\n",
      "bbe2b2d3-729b-4fbd-ab85-0d1b0014ea0d\n",
      "85af44e2-5fde-418e-9034-87f734bbef62\n",
      "8e0c4dd0-1969-4f4a-b1a6-02fe242fadcf\n",
      "3166d400-26aa-4300-8ba4-d4350e104a5a\n",
      "aa635f03-a87c-4424-b66f-c24b565cad5a\n"
     ]
    }
   ],
   "source": [
    "\"\"\"\n",
    "Generate a random UUID\n",
    "\"\"\"\n",
    "import uuid\n",
    "\n",
    "def create_uuid():\n",
    "    uid = uuid.uuid4()\n",
    "    return uid\n",
    "x = 10\n",
    "\n",
    "while x >= 1:\n",
    "    print(create_uuid())\n",
    "    x -= 1"
   ]
  },
  {
   "cell_type": "code",
   "execution_count": 33,
   "metadata": {},
   "outputs": [
    {
     "data": {
      "text/plain": [
       "'/Users/anthonywathen/Documents/GitScripts/chsheets/jupyter_notebooks'"
      ]
     },
     "execution_count": 33,
     "metadata": {},
     "output_type": "execute_result"
    }
   ],
   "source": [
    "\"\"\"\n",
    "Print current directory\n",
    "\"\"\"\n",
    "\n",
    "import os\n",
    "os.getcwd()"
   ]
  },
  {
   "cell_type": "code",
   "execution_count": 34,
   "metadata": {},
   "outputs": [
    {
     "data": {
      "text/plain": [
       "['Useful_functions.ipynb', '.ipynb_checkpoints']"
      ]
     },
     "execution_count": 34,
     "metadata": {},
     "output_type": "execute_result"
    }
   ],
   "source": [
    "\"\"\"\n",
    "List current directory files\n",
    "\"\"\"\n",
    "os.listdir('.')"
   ]
  },
  {
   "cell_type": "code",
   "execution_count": null,
   "metadata": {},
   "outputs": [],
   "source": []
  }
 ],
 "metadata": {
  "kernelspec": {
   "display_name": "Python 3",
   "language": "python",
   "name": "python3"
  },
  "language_info": {
   "codemirror_mode": {
    "name": "ipython",
    "version": 3
   },
   "file_extension": ".py",
   "mimetype": "text/x-python",
   "name": "python",
   "nbconvert_exporter": "python",
   "pygments_lexer": "ipython3",
   "version": "3.7.1"
  }
 },
 "nbformat": 4,
 "nbformat_minor": 4
}
