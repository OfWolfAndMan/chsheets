{
 "cells": [
  {
   "cell_type": "code",
   "execution_count": 2,
   "metadata": {},
   "outputs": [
    {
     "data": {
      "text/plain": [
       "[('black', 'S', 'standard'),\n",
       " ('black', 'S', 'tall'),\n",
       " ('black', 'M', 'standard'),\n",
       " ('black', 'M', 'tall'),\n",
       " ('black', 'L', 'standard'),\n",
       " ('black', 'L', 'tall'),\n",
       " ('black', 'XL', 'standard'),\n",
       " ('black', 'XL', 'tall'),\n",
       " ('white', 'S', 'standard'),\n",
       " ('white', 'S', 'tall'),\n",
       " ('white', 'M', 'standard'),\n",
       " ('white', 'M', 'tall'),\n",
       " ('white', 'L', 'standard'),\n",
       " ('white', 'L', 'tall'),\n",
       " ('white', 'XL', 'standard'),\n",
       " ('white', 'XL', 'tall'),\n",
       " ('red', 'S', 'standard'),\n",
       " ('red', 'S', 'tall'),\n",
       " ('red', 'M', 'standard'),\n",
       " ('red', 'M', 'tall'),\n",
       " ('red', 'L', 'standard'),\n",
       " ('red', 'L', 'tall'),\n",
       " ('red', 'XL', 'standard'),\n",
       " ('red', 'XL', 'tall'),\n",
       " ('green', 'S', 'standard'),\n",
       " ('green', 'S', 'tall'),\n",
       " ('green', 'M', 'standard'),\n",
       " ('green', 'M', 'tall'),\n",
       " ('green', 'L', 'standard'),\n",
       " ('green', 'L', 'tall'),\n",
       " ('green', 'XL', 'standard'),\n",
       " ('green', 'XL', 'tall')]"
      ]
     },
     "execution_count": 2,
     "metadata": {},
     "output_type": "execute_result"
    }
   ],
   "source": [
    "\"\"\"\n",
    "Create list of tuples\n",
    "\"\"\"\n",
    "\n",
    "colors = ['black', 'white', 'red', 'green']\n",
    "sizes = ['S', 'M', 'L', 'XL']\n",
    "\n",
    "tshirts = [(color, size, fit) for color in colors for size in sizes for fit in fits]\n",
    "tshirts"
   ]
  },
  {
   "cell_type": "code",
   "execution_count": null,
   "metadata": {},
   "outputs": [],
   "source": []
  }
 ],
 "metadata": {
  "kernelspec": {
   "display_name": "Python 3",
   "language": "python",
   "name": "python3"
  },
  "language_info": {
   "codemirror_mode": {
    "name": "ipython",
    "version": 3
   },
   "file_extension": ".py",
   "mimetype": "text/x-python",
   "name": "python",
   "nbconvert_exporter": "python",
   "pygments_lexer": "ipython3",
   "version": "3.7.1"
  }
 },
 "nbformat": 4,
 "nbformat_minor": 4
}
