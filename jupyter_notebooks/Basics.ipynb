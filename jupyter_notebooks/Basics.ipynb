{
 "cells": [
  {
   "cell_type": "code",
   "execution_count": 1,
   "metadata": {},
   "outputs": [
    {
     "name": "stdout",
     "output_type": "stream",
     "text": [
      "This is count 1\n",
      "This is count 2\n",
      "This is count 3\n",
      "This is count 4\n",
      "This is count 5\n",
      "A fruit of type: apples\n",
      "A fruit of type: oranges\n",
      "A fruit of type: pears\n",
      "A fruit of type: apricots\n",
      "I got 1\n",
      "I got 'pennies'\n",
      "I got 2\n",
      "I got 'dimes'\n",
      "I got 3\n",
      "I got 'quarters'\n",
      "Adding 0 to the list.\n",
      "Adding 1 to the list.\n",
      "Adding 2 to the list.\n",
      "Adding 3 to the list.\n",
      "Element was: 0\n",
      "Element was: 1\n",
      "Element was: 2\n",
      "Element was: 3\n"
     ]
    }
   ],
   "source": [
    "\"\"\"\n",
    "For loop example\n",
    "\"\"\"\n",
    "the_count = [1, 2, 3, 4, 5]\n",
    "fruits = ['apples', 'oranges', 'pears', 'apricots']\n",
    "change = [1, 'pennies', 2, 'dimes', 3, 'quarters']\n",
    "\n",
    "for number in the_count:\n",
    "\tprint(\"This is count %d\" % number)\n",
    "\n",
    "for fruit in fruits:\n",
    "\tprint(\"A fruit of type: %s\" % fruit)\n",
    "\t\n",
    "for i in change:\n",
    "\tprint(\"I got %r\" % i)\n",
    "\t\n",
    "elements = []\n",
    "\n",
    "for i in range(0, 4):\n",
    "\tprint(\"Adding %d to the list.\" % i)\n",
    "\telements.append(i)\n",
    "\t\n",
    "for i in elements:\n",
    "\tprint(\"Element was: %d\" % i)\n"
   ]
  },
  {
   "cell_type": "code",
   "execution_count": 2,
   "metadata": {},
   "outputs": [
    {
     "ename": "SyntaxError",
     "evalue": "can't assign to operator (<ipython-input-2-eb0e0074c441>, line 4)",
     "output_type": "error",
     "traceback": [
      "\u001b[0;36m  File \u001b[0;32m\"<ipython-input-2-eb0e0074c441>\"\u001b[0;36m, line \u001b[0;32m4\u001b[0m\n\u001b[0;31m    bool_one = 2**3 = 108 % 100 or 'Cleese' == 'King Arthur'\u001b[0m\n\u001b[0m              ^\u001b[0m\n\u001b[0;31mSyntaxError\u001b[0m\u001b[0;31m:\u001b[0m can't assign to operator\n"
     ]
    }
   ],
   "source": [
    "\"\"\"\n",
    "Basic Boolean example\n",
    "\"\"\"\n",
    "bool_one = 2**3 = 108 % 100 or 'Cleese' == 'King Arthur'"
   ]
  },
  {
   "cell_type": "code",
   "execution_count": 8,
   "metadata": {},
   "outputs": [
    {
     "data": {
      "text/plain": [
       "42"
      ]
     },
     "execution_count": 8,
     "metadata": {},
     "output_type": "execute_result"
    }
   ],
   "source": [
    "\"\"\"\n",
    "Create a named tuple\n",
    "\"\"\"\n",
    "import collections\n",
    "\n",
    "example = collections.namedtuple('example', ['x', 'y'])\n",
    "example(42, 43).x"
   ]
  },
  {
   "cell_type": "code",
   "execution_count": null,
   "metadata": {},
   "outputs": [],
   "source": []
  }
 ],
 "metadata": {
  "kernelspec": {
   "display_name": "Python 3",
   "language": "python",
   "name": "python3"
  },
  "language_info": {
   "codemirror_mode": {
    "name": "ipython",
    "version": 3
   },
   "file_extension": ".py",
   "mimetype": "text/x-python",
   "name": "python",
   "nbconvert_exporter": "python",
   "pygments_lexer": "ipython3",
   "version": "3.8.5"
  }
 },
 "nbformat": 4,
 "nbformat_minor": 4
}
